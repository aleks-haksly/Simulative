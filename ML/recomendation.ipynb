{
  "nbformat": 4,
  "nbformat_minor": 0,
  "metadata": {
    "colab": {
      "provenance": [],
      "include_colab_link": true
    },
    "kernelspec": {
      "name": "python3",
      "display_name": "Python 3"
    },
    "language_info": {
      "name": "python"
    }
  },
  "cells": [
    {
      "cell_type": "markdown",
      "metadata": {
        "id": "view-in-github",
        "colab_type": "text"
      },
      "source": [
        "<a href=\"https://colab.research.google.com/github/aleks-haksly/Simulative/blob/main/ML/recomendation.ipynb\" target=\"_parent\"><img src=\"https://colab.research.google.com/assets/colab-badge.svg\" alt=\"Open In Colab\"/></a>"
      ]
    },
    {
      "cell_type": "markdown",
      "source": [
        "https://a.teleboss.ru/play/c851b57a-ccd5-408c-9484-e3d00c79b46e\n",
        "\n",
        "https://www.kaggle.com/datasets/parasharmanas/movie-recommendation-system/data?select=movies.csv"
      ],
      "metadata": {
        "id": "KXuHlmkFCqf_"
      }
    },
    {
      "cell_type": "markdown",
      "source": [
        "# Загрузка датасета с kaggle"
      ],
      "metadata": {
        "id": "rZg06T2qbkEM"
      }
    },
    {
      "cell_type": "code",
      "source": [
        "!curl -L -o movie-recommendation-system.zip https://www.kaggle.com/api/v1/datasets/download/parasharmanas/movie-recommendation-system\n",
        "!unzip -o /content/movie-recommendation-system.zip\n",
        "!rm *.zip"
      ],
      "metadata": {
        "id": "9UGU5owuabHl",
        "colab": {
          "base_uri": "https://localhost:8080/"
        },
        "outputId": "457cb79d-11be-41b4-94b5-e3763966c2e5"
      },
      "execution_count": 1,
      "outputs": [
        {
          "output_type": "stream",
          "name": "stdout",
          "text": [
            "  % Total    % Received % Xferd  Average Speed   Time    Time     Time  Current\n",
            "                                 Dload  Upload   Total   Spent    Left  Speed\n",
            "  0     0    0     0    0     0      0      0 --:--:-- --:--:-- --:--:--     0\n",
            "100  164M  100  164M    0     0  54.6M      0  0:00:03  0:00:03 --:--:-- 88.8M\n",
            "Archive:  /content/movie-recommendation-system.zip\n",
            "  inflating: movies.csv              \n",
            "  inflating: ratings.csv             \n"
          ]
        }
      ]
    },
    {
      "cell_type": "code",
      "source": [
        "import numpy as np\n",
        "import pandas as pd\n",
        "import os\n",
        "import warnings\n",
        "\n",
        "warnings.filterwarnings(\"ignore\")\n",
        "pd.options.display.max_columns = 100"
      ],
      "metadata": {
        "id": "l77uTu_5CtZb"
      },
      "execution_count": 2,
      "outputs": []
    },
    {
      "cell_type": "code",
      "source": [
        "ratings_full_df = pd.read_csv(\"/content/ratings.csv\", nrows=200_000)\n",
        "movies_df = pd.read_csv(\"/content/movies.csv\")"
      ],
      "metadata": {
        "id": "S_lFoyn5C_ZH"
      },
      "execution_count": 3,
      "outputs": []
    },
    {
      "cell_type": "code",
      "source": [
        "ratings_full_df.head(3)"
      ],
      "metadata": {
        "colab": {
          "base_uri": "https://localhost:8080/",
          "height": 143
        },
        "id": "2DG7CquQI5fi",
        "outputId": "e653ef51-bdd5-4d40-e60c-e496e8df742f"
      },
      "execution_count": 4,
      "outputs": [
        {
          "output_type": "execute_result",
          "data": {
            "text/plain": [
              "   userId  movieId  rating   timestamp\n",
              "0       1      296     5.0  1147880044\n",
              "1       1      306     3.5  1147868817\n",
              "2       1      307     5.0  1147868828"
            ],
            "text/html": [
              "\n",
              "  <div id=\"df-679ac3c6-8017-42ee-8151-8f5b9f3d4920\" class=\"colab-df-container\">\n",
              "    <div>\n",
              "<style scoped>\n",
              "    .dataframe tbody tr th:only-of-type {\n",
              "        vertical-align: middle;\n",
              "    }\n",
              "\n",
              "    .dataframe tbody tr th {\n",
              "        vertical-align: top;\n",
              "    }\n",
              "\n",
              "    .dataframe thead th {\n",
              "        text-align: right;\n",
              "    }\n",
              "</style>\n",
              "<table border=\"1\" class=\"dataframe\">\n",
              "  <thead>\n",
              "    <tr style=\"text-align: right;\">\n",
              "      <th></th>\n",
              "      <th>userId</th>\n",
              "      <th>movieId</th>\n",
              "      <th>rating</th>\n",
              "      <th>timestamp</th>\n",
              "    </tr>\n",
              "  </thead>\n",
              "  <tbody>\n",
              "    <tr>\n",
              "      <th>0</th>\n",
              "      <td>1</td>\n",
              "      <td>296</td>\n",
              "      <td>5.0</td>\n",
              "      <td>1147880044</td>\n",
              "    </tr>\n",
              "    <tr>\n",
              "      <th>1</th>\n",
              "      <td>1</td>\n",
              "      <td>306</td>\n",
              "      <td>3.5</td>\n",
              "      <td>1147868817</td>\n",
              "    </tr>\n",
              "    <tr>\n",
              "      <th>2</th>\n",
              "      <td>1</td>\n",
              "      <td>307</td>\n",
              "      <td>5.0</td>\n",
              "      <td>1147868828</td>\n",
              "    </tr>\n",
              "  </tbody>\n",
              "</table>\n",
              "</div>\n",
              "    <div class=\"colab-df-buttons\">\n",
              "\n",
              "  <div class=\"colab-df-container\">\n",
              "    <button class=\"colab-df-convert\" onclick=\"convertToInteractive('df-679ac3c6-8017-42ee-8151-8f5b9f3d4920')\"\n",
              "            title=\"Convert this dataframe to an interactive table.\"\n",
              "            style=\"display:none;\">\n",
              "\n",
              "  <svg xmlns=\"http://www.w3.org/2000/svg\" height=\"24px\" viewBox=\"0 -960 960 960\">\n",
              "    <path d=\"M120-120v-720h720v720H120Zm60-500h600v-160H180v160Zm220 220h160v-160H400v160Zm0 220h160v-160H400v160ZM180-400h160v-160H180v160Zm440 0h160v-160H620v160ZM180-180h160v-160H180v160Zm440 0h160v-160H620v160Z\"/>\n",
              "  </svg>\n",
              "    </button>\n",
              "\n",
              "  <style>\n",
              "    .colab-df-container {\n",
              "      display:flex;\n",
              "      gap: 12px;\n",
              "    }\n",
              "\n",
              "    .colab-df-convert {\n",
              "      background-color: #E8F0FE;\n",
              "      border: none;\n",
              "      border-radius: 50%;\n",
              "      cursor: pointer;\n",
              "      display: none;\n",
              "      fill: #1967D2;\n",
              "      height: 32px;\n",
              "      padding: 0 0 0 0;\n",
              "      width: 32px;\n",
              "    }\n",
              "\n",
              "    .colab-df-convert:hover {\n",
              "      background-color: #E2EBFA;\n",
              "      box-shadow: 0px 1px 2px rgba(60, 64, 67, 0.3), 0px 1px 3px 1px rgba(60, 64, 67, 0.15);\n",
              "      fill: #174EA6;\n",
              "    }\n",
              "\n",
              "    .colab-df-buttons div {\n",
              "      margin-bottom: 4px;\n",
              "    }\n",
              "\n",
              "    [theme=dark] .colab-df-convert {\n",
              "      background-color: #3B4455;\n",
              "      fill: #D2E3FC;\n",
              "    }\n",
              "\n",
              "    [theme=dark] .colab-df-convert:hover {\n",
              "      background-color: #434B5C;\n",
              "      box-shadow: 0px 1px 3px 1px rgba(0, 0, 0, 0.15);\n",
              "      filter: drop-shadow(0px 1px 2px rgba(0, 0, 0, 0.3));\n",
              "      fill: #FFFFFF;\n",
              "    }\n",
              "  </style>\n",
              "\n",
              "    <script>\n",
              "      const buttonEl =\n",
              "        document.querySelector('#df-679ac3c6-8017-42ee-8151-8f5b9f3d4920 button.colab-df-convert');\n",
              "      buttonEl.style.display =\n",
              "        google.colab.kernel.accessAllowed ? 'block' : 'none';\n",
              "\n",
              "      async function convertToInteractive(key) {\n",
              "        const element = document.querySelector('#df-679ac3c6-8017-42ee-8151-8f5b9f3d4920');\n",
              "        const dataTable =\n",
              "          await google.colab.kernel.invokeFunction('convertToInteractive',\n",
              "                                                    [key], {});\n",
              "        if (!dataTable) return;\n",
              "\n",
              "        const docLinkHtml = 'Like what you see? Visit the ' +\n",
              "          '<a target=\"_blank\" href=https://colab.research.google.com/notebooks/data_table.ipynb>data table notebook</a>'\n",
              "          + ' to learn more about interactive tables.';\n",
              "        element.innerHTML = '';\n",
              "        dataTable['output_type'] = 'display_data';\n",
              "        await google.colab.output.renderOutput(dataTable, element);\n",
              "        const docLink = document.createElement('div');\n",
              "        docLink.innerHTML = docLinkHtml;\n",
              "        element.appendChild(docLink);\n",
              "      }\n",
              "    </script>\n",
              "  </div>\n",
              "\n",
              "\n",
              "<div id=\"df-96cae9c3-b34c-45d4-92d9-eac0fda331e3\">\n",
              "  <button class=\"colab-df-quickchart\" onclick=\"quickchart('df-96cae9c3-b34c-45d4-92d9-eac0fda331e3')\"\n",
              "            title=\"Suggest charts\"\n",
              "            style=\"display:none;\">\n",
              "\n",
              "<svg xmlns=\"http://www.w3.org/2000/svg\" height=\"24px\"viewBox=\"0 0 24 24\"\n",
              "     width=\"24px\">\n",
              "    <g>\n",
              "        <path d=\"M19 3H5c-1.1 0-2 .9-2 2v14c0 1.1.9 2 2 2h14c1.1 0 2-.9 2-2V5c0-1.1-.9-2-2-2zM9 17H7v-7h2v7zm4 0h-2V7h2v10zm4 0h-2v-4h2v4z\"/>\n",
              "    </g>\n",
              "</svg>\n",
              "  </button>\n",
              "\n",
              "<style>\n",
              "  .colab-df-quickchart {\n",
              "      --bg-color: #E8F0FE;\n",
              "      --fill-color: #1967D2;\n",
              "      --hover-bg-color: #E2EBFA;\n",
              "      --hover-fill-color: #174EA6;\n",
              "      --disabled-fill-color: #AAA;\n",
              "      --disabled-bg-color: #DDD;\n",
              "  }\n",
              "\n",
              "  [theme=dark] .colab-df-quickchart {\n",
              "      --bg-color: #3B4455;\n",
              "      --fill-color: #D2E3FC;\n",
              "      --hover-bg-color: #434B5C;\n",
              "      --hover-fill-color: #FFFFFF;\n",
              "      --disabled-bg-color: #3B4455;\n",
              "      --disabled-fill-color: #666;\n",
              "  }\n",
              "\n",
              "  .colab-df-quickchart {\n",
              "    background-color: var(--bg-color);\n",
              "    border: none;\n",
              "    border-radius: 50%;\n",
              "    cursor: pointer;\n",
              "    display: none;\n",
              "    fill: var(--fill-color);\n",
              "    height: 32px;\n",
              "    padding: 0;\n",
              "    width: 32px;\n",
              "  }\n",
              "\n",
              "  .colab-df-quickchart:hover {\n",
              "    background-color: var(--hover-bg-color);\n",
              "    box-shadow: 0 1px 2px rgba(60, 64, 67, 0.3), 0 1px 3px 1px rgba(60, 64, 67, 0.15);\n",
              "    fill: var(--button-hover-fill-color);\n",
              "  }\n",
              "\n",
              "  .colab-df-quickchart-complete:disabled,\n",
              "  .colab-df-quickchart-complete:disabled:hover {\n",
              "    background-color: var(--disabled-bg-color);\n",
              "    fill: var(--disabled-fill-color);\n",
              "    box-shadow: none;\n",
              "  }\n",
              "\n",
              "  .colab-df-spinner {\n",
              "    border: 2px solid var(--fill-color);\n",
              "    border-color: transparent;\n",
              "    border-bottom-color: var(--fill-color);\n",
              "    animation:\n",
              "      spin 1s steps(1) infinite;\n",
              "  }\n",
              "\n",
              "  @keyframes spin {\n",
              "    0% {\n",
              "      border-color: transparent;\n",
              "      border-bottom-color: var(--fill-color);\n",
              "      border-left-color: var(--fill-color);\n",
              "    }\n",
              "    20% {\n",
              "      border-color: transparent;\n",
              "      border-left-color: var(--fill-color);\n",
              "      border-top-color: var(--fill-color);\n",
              "    }\n",
              "    30% {\n",
              "      border-color: transparent;\n",
              "      border-left-color: var(--fill-color);\n",
              "      border-top-color: var(--fill-color);\n",
              "      border-right-color: var(--fill-color);\n",
              "    }\n",
              "    40% {\n",
              "      border-color: transparent;\n",
              "      border-right-color: var(--fill-color);\n",
              "      border-top-color: var(--fill-color);\n",
              "    }\n",
              "    60% {\n",
              "      border-color: transparent;\n",
              "      border-right-color: var(--fill-color);\n",
              "    }\n",
              "    80% {\n",
              "      border-color: transparent;\n",
              "      border-right-color: var(--fill-color);\n",
              "      border-bottom-color: var(--fill-color);\n",
              "    }\n",
              "    90% {\n",
              "      border-color: transparent;\n",
              "      border-bottom-color: var(--fill-color);\n",
              "    }\n",
              "  }\n",
              "</style>\n",
              "\n",
              "  <script>\n",
              "    async function quickchart(key) {\n",
              "      const quickchartButtonEl =\n",
              "        document.querySelector('#' + key + ' button');\n",
              "      quickchartButtonEl.disabled = true;  // To prevent multiple clicks.\n",
              "      quickchartButtonEl.classList.add('colab-df-spinner');\n",
              "      try {\n",
              "        const charts = await google.colab.kernel.invokeFunction(\n",
              "            'suggestCharts', [key], {});\n",
              "      } catch (error) {\n",
              "        console.error('Error during call to suggestCharts:', error);\n",
              "      }\n",
              "      quickchartButtonEl.classList.remove('colab-df-spinner');\n",
              "      quickchartButtonEl.classList.add('colab-df-quickchart-complete');\n",
              "    }\n",
              "    (() => {\n",
              "      let quickchartButtonEl =\n",
              "        document.querySelector('#df-96cae9c3-b34c-45d4-92d9-eac0fda331e3 button');\n",
              "      quickchartButtonEl.style.display =\n",
              "        google.colab.kernel.accessAllowed ? 'block' : 'none';\n",
              "    })();\n",
              "  </script>\n",
              "</div>\n",
              "    </div>\n",
              "  </div>\n"
            ],
            "application/vnd.google.colaboratory.intrinsic+json": {
              "type": "dataframe",
              "variable_name": "ratings_full_df"
            }
          },
          "metadata": {},
          "execution_count": 4
        }
      ]
    },
    {
      "cell_type": "code",
      "source": [
        "movies_df.head(3)"
      ],
      "metadata": {
        "colab": {
          "base_uri": "https://localhost:8080/",
          "height": 143
        },
        "id": "ycqHygxMb4l4",
        "outputId": "1f31f1c7-9074-4701-f0db-86cb239cd03f"
      },
      "execution_count": 5,
      "outputs": [
        {
          "output_type": "execute_result",
          "data": {
            "text/plain": [
              "   movieId                    title  \\\n",
              "0        1         Toy Story (1995)   \n",
              "1        2           Jumanji (1995)   \n",
              "2        3  Grumpier Old Men (1995)   \n",
              "\n",
              "                                        genres  \n",
              "0  Adventure|Animation|Children|Comedy|Fantasy  \n",
              "1                   Adventure|Children|Fantasy  \n",
              "2                               Comedy|Romance  "
            ],
            "text/html": [
              "\n",
              "  <div id=\"df-917d029c-b660-46c4-8fdb-e9aa71f81b6f\" class=\"colab-df-container\">\n",
              "    <div>\n",
              "<style scoped>\n",
              "    .dataframe tbody tr th:only-of-type {\n",
              "        vertical-align: middle;\n",
              "    }\n",
              "\n",
              "    .dataframe tbody tr th {\n",
              "        vertical-align: top;\n",
              "    }\n",
              "\n",
              "    .dataframe thead th {\n",
              "        text-align: right;\n",
              "    }\n",
              "</style>\n",
              "<table border=\"1\" class=\"dataframe\">\n",
              "  <thead>\n",
              "    <tr style=\"text-align: right;\">\n",
              "      <th></th>\n",
              "      <th>movieId</th>\n",
              "      <th>title</th>\n",
              "      <th>genres</th>\n",
              "    </tr>\n",
              "  </thead>\n",
              "  <tbody>\n",
              "    <tr>\n",
              "      <th>0</th>\n",
              "      <td>1</td>\n",
              "      <td>Toy Story (1995)</td>\n",
              "      <td>Adventure|Animation|Children|Comedy|Fantasy</td>\n",
              "    </tr>\n",
              "    <tr>\n",
              "      <th>1</th>\n",
              "      <td>2</td>\n",
              "      <td>Jumanji (1995)</td>\n",
              "      <td>Adventure|Children|Fantasy</td>\n",
              "    </tr>\n",
              "    <tr>\n",
              "      <th>2</th>\n",
              "      <td>3</td>\n",
              "      <td>Grumpier Old Men (1995)</td>\n",
              "      <td>Comedy|Romance</td>\n",
              "    </tr>\n",
              "  </tbody>\n",
              "</table>\n",
              "</div>\n",
              "    <div class=\"colab-df-buttons\">\n",
              "\n",
              "  <div class=\"colab-df-container\">\n",
              "    <button class=\"colab-df-convert\" onclick=\"convertToInteractive('df-917d029c-b660-46c4-8fdb-e9aa71f81b6f')\"\n",
              "            title=\"Convert this dataframe to an interactive table.\"\n",
              "            style=\"display:none;\">\n",
              "\n",
              "  <svg xmlns=\"http://www.w3.org/2000/svg\" height=\"24px\" viewBox=\"0 -960 960 960\">\n",
              "    <path d=\"M120-120v-720h720v720H120Zm60-500h600v-160H180v160Zm220 220h160v-160H400v160Zm0 220h160v-160H400v160ZM180-400h160v-160H180v160Zm440 0h160v-160H620v160ZM180-180h160v-160H180v160Zm440 0h160v-160H620v160Z\"/>\n",
              "  </svg>\n",
              "    </button>\n",
              "\n",
              "  <style>\n",
              "    .colab-df-container {\n",
              "      display:flex;\n",
              "      gap: 12px;\n",
              "    }\n",
              "\n",
              "    .colab-df-convert {\n",
              "      background-color: #E8F0FE;\n",
              "      border: none;\n",
              "      border-radius: 50%;\n",
              "      cursor: pointer;\n",
              "      display: none;\n",
              "      fill: #1967D2;\n",
              "      height: 32px;\n",
              "      padding: 0 0 0 0;\n",
              "      width: 32px;\n",
              "    }\n",
              "\n",
              "    .colab-df-convert:hover {\n",
              "      background-color: #E2EBFA;\n",
              "      box-shadow: 0px 1px 2px rgba(60, 64, 67, 0.3), 0px 1px 3px 1px rgba(60, 64, 67, 0.15);\n",
              "      fill: #174EA6;\n",
              "    }\n",
              "\n",
              "    .colab-df-buttons div {\n",
              "      margin-bottom: 4px;\n",
              "    }\n",
              "\n",
              "    [theme=dark] .colab-df-convert {\n",
              "      background-color: #3B4455;\n",
              "      fill: #D2E3FC;\n",
              "    }\n",
              "\n",
              "    [theme=dark] .colab-df-convert:hover {\n",
              "      background-color: #434B5C;\n",
              "      box-shadow: 0px 1px 3px 1px rgba(0, 0, 0, 0.15);\n",
              "      filter: drop-shadow(0px 1px 2px rgba(0, 0, 0, 0.3));\n",
              "      fill: #FFFFFF;\n",
              "    }\n",
              "  </style>\n",
              "\n",
              "    <script>\n",
              "      const buttonEl =\n",
              "        document.querySelector('#df-917d029c-b660-46c4-8fdb-e9aa71f81b6f button.colab-df-convert');\n",
              "      buttonEl.style.display =\n",
              "        google.colab.kernel.accessAllowed ? 'block' : 'none';\n",
              "\n",
              "      async function convertToInteractive(key) {\n",
              "        const element = document.querySelector('#df-917d029c-b660-46c4-8fdb-e9aa71f81b6f');\n",
              "        const dataTable =\n",
              "          await google.colab.kernel.invokeFunction('convertToInteractive',\n",
              "                                                    [key], {});\n",
              "        if (!dataTable) return;\n",
              "\n",
              "        const docLinkHtml = 'Like what you see? Visit the ' +\n",
              "          '<a target=\"_blank\" href=https://colab.research.google.com/notebooks/data_table.ipynb>data table notebook</a>'\n",
              "          + ' to learn more about interactive tables.';\n",
              "        element.innerHTML = '';\n",
              "        dataTable['output_type'] = 'display_data';\n",
              "        await google.colab.output.renderOutput(dataTable, element);\n",
              "        const docLink = document.createElement('div');\n",
              "        docLink.innerHTML = docLinkHtml;\n",
              "        element.appendChild(docLink);\n",
              "      }\n",
              "    </script>\n",
              "  </div>\n",
              "\n",
              "\n",
              "<div id=\"df-047513ed-c79d-4b8e-9b7e-f153bac580fa\">\n",
              "  <button class=\"colab-df-quickchart\" onclick=\"quickchart('df-047513ed-c79d-4b8e-9b7e-f153bac580fa')\"\n",
              "            title=\"Suggest charts\"\n",
              "            style=\"display:none;\">\n",
              "\n",
              "<svg xmlns=\"http://www.w3.org/2000/svg\" height=\"24px\"viewBox=\"0 0 24 24\"\n",
              "     width=\"24px\">\n",
              "    <g>\n",
              "        <path d=\"M19 3H5c-1.1 0-2 .9-2 2v14c0 1.1.9 2 2 2h14c1.1 0 2-.9 2-2V5c0-1.1-.9-2-2-2zM9 17H7v-7h2v7zm4 0h-2V7h2v10zm4 0h-2v-4h2v4z\"/>\n",
              "    </g>\n",
              "</svg>\n",
              "  </button>\n",
              "\n",
              "<style>\n",
              "  .colab-df-quickchart {\n",
              "      --bg-color: #E8F0FE;\n",
              "      --fill-color: #1967D2;\n",
              "      --hover-bg-color: #E2EBFA;\n",
              "      --hover-fill-color: #174EA6;\n",
              "      --disabled-fill-color: #AAA;\n",
              "      --disabled-bg-color: #DDD;\n",
              "  }\n",
              "\n",
              "  [theme=dark] .colab-df-quickchart {\n",
              "      --bg-color: #3B4455;\n",
              "      --fill-color: #D2E3FC;\n",
              "      --hover-bg-color: #434B5C;\n",
              "      --hover-fill-color: #FFFFFF;\n",
              "      --disabled-bg-color: #3B4455;\n",
              "      --disabled-fill-color: #666;\n",
              "  }\n",
              "\n",
              "  .colab-df-quickchart {\n",
              "    background-color: var(--bg-color);\n",
              "    border: none;\n",
              "    border-radius: 50%;\n",
              "    cursor: pointer;\n",
              "    display: none;\n",
              "    fill: var(--fill-color);\n",
              "    height: 32px;\n",
              "    padding: 0;\n",
              "    width: 32px;\n",
              "  }\n",
              "\n",
              "  .colab-df-quickchart:hover {\n",
              "    background-color: var(--hover-bg-color);\n",
              "    box-shadow: 0 1px 2px rgba(60, 64, 67, 0.3), 0 1px 3px 1px rgba(60, 64, 67, 0.15);\n",
              "    fill: var(--button-hover-fill-color);\n",
              "  }\n",
              "\n",
              "  .colab-df-quickchart-complete:disabled,\n",
              "  .colab-df-quickchart-complete:disabled:hover {\n",
              "    background-color: var(--disabled-bg-color);\n",
              "    fill: var(--disabled-fill-color);\n",
              "    box-shadow: none;\n",
              "  }\n",
              "\n",
              "  .colab-df-spinner {\n",
              "    border: 2px solid var(--fill-color);\n",
              "    border-color: transparent;\n",
              "    border-bottom-color: var(--fill-color);\n",
              "    animation:\n",
              "      spin 1s steps(1) infinite;\n",
              "  }\n",
              "\n",
              "  @keyframes spin {\n",
              "    0% {\n",
              "      border-color: transparent;\n",
              "      border-bottom-color: var(--fill-color);\n",
              "      border-left-color: var(--fill-color);\n",
              "    }\n",
              "    20% {\n",
              "      border-color: transparent;\n",
              "      border-left-color: var(--fill-color);\n",
              "      border-top-color: var(--fill-color);\n",
              "    }\n",
              "    30% {\n",
              "      border-color: transparent;\n",
              "      border-left-color: var(--fill-color);\n",
              "      border-top-color: var(--fill-color);\n",
              "      border-right-color: var(--fill-color);\n",
              "    }\n",
              "    40% {\n",
              "      border-color: transparent;\n",
              "      border-right-color: var(--fill-color);\n",
              "      border-top-color: var(--fill-color);\n",
              "    }\n",
              "    60% {\n",
              "      border-color: transparent;\n",
              "      border-right-color: var(--fill-color);\n",
              "    }\n",
              "    80% {\n",
              "      border-color: transparent;\n",
              "      border-right-color: var(--fill-color);\n",
              "      border-bottom-color: var(--fill-color);\n",
              "    }\n",
              "    90% {\n",
              "      border-color: transparent;\n",
              "      border-bottom-color: var(--fill-color);\n",
              "    }\n",
              "  }\n",
              "</style>\n",
              "\n",
              "  <script>\n",
              "    async function quickchart(key) {\n",
              "      const quickchartButtonEl =\n",
              "        document.querySelector('#' + key + ' button');\n",
              "      quickchartButtonEl.disabled = true;  // To prevent multiple clicks.\n",
              "      quickchartButtonEl.classList.add('colab-df-spinner');\n",
              "      try {\n",
              "        const charts = await google.colab.kernel.invokeFunction(\n",
              "            'suggestCharts', [key], {});\n",
              "      } catch (error) {\n",
              "        console.error('Error during call to suggestCharts:', error);\n",
              "      }\n",
              "      quickchartButtonEl.classList.remove('colab-df-spinner');\n",
              "      quickchartButtonEl.classList.add('colab-df-quickchart-complete');\n",
              "    }\n",
              "    (() => {\n",
              "      let quickchartButtonEl =\n",
              "        document.querySelector('#df-047513ed-c79d-4b8e-9b7e-f153bac580fa button');\n",
              "      quickchartButtonEl.style.display =\n",
              "        google.colab.kernel.accessAllowed ? 'block' : 'none';\n",
              "    })();\n",
              "  </script>\n",
              "</div>\n",
              "    </div>\n",
              "  </div>\n"
            ],
            "application/vnd.google.colaboratory.intrinsic+json": {
              "type": "dataframe",
              "variable_name": "movies_df",
              "summary": "{\n  \"name\": \"movies_df\",\n  \"rows\": 62423,\n  \"fields\": [\n    {\n      \"column\": \"movieId\",\n      \"properties\": {\n        \"dtype\": \"number\",\n        \"std\": 63264,\n        \"min\": 1,\n        \"max\": 209171,\n        \"num_unique_values\": 62423,\n        \"samples\": [\n          4990,\n          116698,\n          125517\n        ],\n        \"semantic_type\": \"\",\n        \"description\": \"\"\n      }\n    },\n    {\n      \"column\": \"title\",\n      \"properties\": {\n        \"dtype\": \"string\",\n        \"num_unique_values\": 62325,\n        \"samples\": [\n          \"So Dear to My Heart (1949)\",\n          \"Give Me Liberty (2019)\",\n          \"Vice (2015)\"\n        ],\n        \"semantic_type\": \"\",\n        \"description\": \"\"\n      }\n    },\n    {\n      \"column\": \"genres\",\n      \"properties\": {\n        \"dtype\": \"category\",\n        \"num_unique_values\": 1639,\n        \"samples\": [\n          \"Action|Adventure|Crime|Western\",\n          \"Action|Comedy|Drama|Romance|Thriller\",\n          \"Animation|Documentary|Drama|Fantasy\"\n        ],\n        \"semantic_type\": \"\",\n        \"description\": \"\"\n      }\n    }\n  ]\n}"
            }
          },
          "metadata": {},
          "execution_count": 5
        }
      ]
    },
    {
      "cell_type": "markdown",
      "source": [
        "# Подготовка pipline для обработки"
      ],
      "metadata": {
        "id": "8I5fwbUPcgLd"
      }
    },
    {
      "cell_type": "code",
      "source": [
        "from sklearn.base import BaseEstimator, TransformerMixin, ClassifierMixin\n",
        "from sklearn.preprocessing import OneHotEncoder, MultiLabelBinarizer\n",
        "from sklearn.pipeline import Pipeline\n",
        "from sklearn.linear_model import LinearRegression\n",
        "from sklearn.compose import ColumnTransformer, make_column_transformer\n",
        "from sklearn.linear_model import Lasso, Ridge\n",
        "from sklearn.model_selection import KFold"
      ],
      "metadata": {
        "id": "DgX0hTz0XY7Y"
      },
      "execution_count": 6,
      "outputs": []
    },
    {
      "cell_type": "code",
      "source": [
        "onehot_columns = ['time'] # список колонок, которые будем кодировать c OneHotEncoder"
      ],
      "metadata": {
        "id": "DX8bqb08c6Y_"
      },
      "execution_count": 7,
      "outputs": []
    },
    {
      "cell_type": "code",
      "source": [
        "class CustomTransformer(BaseEstimator, TransformerMixin):\n",
        "    def __init__(\n",
        "        self,\n",
        "        movies_data,\n",
        "        date_col='timestamp'\n",
        "\n",
        "    ):\n",
        "        self.date_col = date_col\n",
        "        self.mlb = MultiLabelBinarizer()\n",
        "        self.movies_data = movies_data\n",
        "\n",
        "    def fit(self, X, y):\n",
        "\n",
        "        concatenated_df = pd.concat([X, y], axis = 1)\n",
        "        self.rating_user_mean = concatenated_df.groupby(\"userId\", as_index=False)\\\n",
        "                                               .rating.mean()\\\n",
        "                                               .rename({\"rating\": \"rating_user_mean\"}, axis=1)\n",
        "\n",
        "        self.rating_movie_mean = concatenated_df.groupby(\"movieId\", as_index=False)\\\n",
        "                                                .rating.mean()\\\n",
        "                                                .rename({\"rating\": \"rating_movie_mean\"}, axis=1)\n",
        "\n",
        "        self.mlb.fit(self.movies_data.genres.apply(lambda x: x.split('|')))\n",
        "        self.ratings = y.copy()\n",
        "\n",
        "        return self\n",
        "\n",
        "    def transform(self, X:pd.DataFrame):\n",
        "\n",
        "        X_copy= X.copy()\n",
        "        X_copy = X_copy.merge(self.rating_user_mean, how='left', on='userId') \\\n",
        "                       .merge(self.rating_movie_mean, how='left', on='movieId') \\\n",
        "                       .merge(movies_df[['movieId', 'genres']], on='movieId', how='left').fillna(2.5)\n",
        "\n",
        "        datetime_ = pd.to_datetime(X_copy.timestamp, unit='s')\n",
        "\n",
        "        X_copy['year'] = datetime_.dt.year\n",
        "        X_copy['month'] = datetime_.dt.month\n",
        "        X_copy['day_of_week'] = datetime_.dt.day_of_week\n",
        "        X_copy['time'] = pd.cut(datetime_.dt.hour,\n",
        "                                include_lowest=True,\n",
        "                                bins=[0, 5, 12, 17, 21, 24],\n",
        "                                right=False,\n",
        "                                ordered=False,\n",
        "                                labels=['night', 'morining', 'afternoon', 'evening', 'night'])\n",
        "\n",
        "        X_copy['genres'] = X_copy.genres.apply(lambda x: x.split('|'))\n",
        "\n",
        "        mlb_encoded_genres = pd.DataFrame(self.mlb.transform(X_copy.genres), \\\n",
        "                                         columns=self.mlb.classes_)\n",
        "\n",
        "        X_copy = pd.concat([X_copy, mlb_encoded_genres], axis=1)\n",
        "\n",
        "\n",
        "        X_copy = X_copy.merge(pd.concat([mlb_encoded_genres.mul(self.ratings, axis=0),\\\n",
        "                                X_copy.userId], axis = 1)\n",
        "                               .groupby(\"userId\", as_index = False).mean(), \\\n",
        "                     how='left',\n",
        "                     on='userId', \\\n",
        "                     suffixes = ('', '_gen_mean'))\n",
        "\n",
        "\n",
        "        X_copy.drop(columns=['timestamp', 'genres'], inplace=True)\n",
        "        return X_copy.set_index(X.index)\n",
        "\n",
        "    def get_feature_names_out(self, input_features=None):\n",
        "        return self.mlb.classes_\n",
        "\n",
        "    def inverse_transform(self):\n",
        "        pass"
      ],
      "metadata": {
        "id": "HrWEjG5TXZQ6"
      },
      "execution_count": 8,
      "outputs": []
    },
    {
      "cell_type": "code",
      "source": [
        "col_transformer = ColumnTransformer(\n",
        "    transformers=[\n",
        "        ('OneHotEncoder', OneHotEncoder(sparse_output=False, drop='first', handle_unknown='ignore'), onehot_columns),\n",
        "    ],\n",
        "    remainder='passthrough',          # Оставляем необрабатываемые колонки как есть, не удаляем их\n",
        "    verbose_feature_names_out=False   # Оставляем оригинальные названия колонок\n",
        ").set_output(transform='pandas')      # Трансформер будет возвращать pandas\n"
      ],
      "metadata": {
        "id": "U8nUZ5wpljGX"
      },
      "execution_count": 9,
      "outputs": []
    },
    {
      "cell_type": "code",
      "source": [
        "class NaivePredictor(ClassifierMixin, BaseEstimator):\n",
        "\n",
        "    def __init__(self):\n",
        "        self.rating_movie_mean_ = None  # Для хранения средней оценки фильма\n",
        "\n",
        "    def fit(self, X, y):\n",
        "        concatenated_df = pd.concat([X, y], axis=1)\n",
        "        self.rating_movie_mean_ = concatenated_df.groupby('movieId')['rating'].mean()\n",
        "        self.global_mean = y.mean()\n",
        "        return self\n",
        "\n",
        "    def predict(self, X):\n",
        "        \"\"\"\n",
        "        Предсказывает средний рейтинг фильма для каждого примера.\n",
        "        Если `movieId` нет в обучающей выборке, возвращает средний рейтинг по всем фильмам.\n",
        "        \"\"\"\n",
        "        if self.rating_movie_mean_ is None:\n",
        "            raise ValueError(\"Model is not fitted yet. Call `fit` before `predict`.\")\n",
        "\n",
        "        # Заполняем пропущенные значения средним рейтингом всех фильмов\n",
        "        predictions = X['movieId'].map(self.rating_movie_mean_).fillna(self.global_mean)\n",
        "        return predictions"
      ],
      "metadata": {
        "id": "3BIP54JXqofm"
      },
      "execution_count": 10,
      "outputs": []
    },
    {
      "cell_type": "code",
      "source": [
        "class NaivePredictor2(ClassifierMixin, BaseEstimator):\n",
        "\n",
        "    def __init__(self, a=0.5):\n",
        "        self.rating_movie_mean_ = None  # Для хранения средней оценки фильма\n",
        "        self.rating_user_mean_ = None\n",
        "        self.a = a\n",
        "\n",
        "    def fit(self, X, y):\n",
        "        concatenated_df = pd.concat([X, y], axis=1)\n",
        "        self.rating_movie_mean_ = concatenated_df.groupby('movieId')['rating'].mean()\n",
        "        self.rating_user_mean_ = concatenated_df.groupby('userId')['rating'].mean()\n",
        "        self.global_mean = y.mean()\n",
        "        return self\n",
        "\n",
        "    def predict(self, X):\n",
        "        \"\"\"\n",
        "        Предсказывает средний рейтинг фильма для каждого примера.\n",
        "        Если `movieId` нет в обучающей выборке, возвращает средний рейтинг по всем фильмам.\n",
        "        \"\"\"\n",
        "        if self.rating_movie_mean_ is None:\n",
        "            raise ValueError(\"Model is not fitted yet. Call `fit` before `predict`.\")\n",
        "\n",
        "        # Заполняем пропущенные значения средним рейтингом всех фильмов\n",
        "        predictions = (X['movieId'].map(self.rating_movie_mean_) * self.a + X['userId'].map(self.rating_user_mean_) * (1 - self.a)).fillna(self.global_mean)\n",
        "        return predictions"
      ],
      "metadata": {
        "id": "5CCzU4o4gShx"
      },
      "execution_count": 11,
      "outputs": []
    },
    {
      "cell_type": "code",
      "source": [
        "pipe = Pipeline(\n",
        "    [\n",
        "        (\"Custom_transformer\", CustomTransformer(movies_data=movies_df)),\n",
        "        (\"OneHotEncoder\", col_transformer)\n",
        "    ]\n",
        ")"
      ],
      "metadata": {
        "id": "OR2KC4W0tpFb"
      },
      "execution_count": 12,
      "outputs": []
    },
    {
      "cell_type": "code",
      "source": [
        "class CustomTransformer2(BaseEstimator, TransformerMixin):\n",
        "    def __init__(\n",
        "        self,\n",
        "        movies_data,\n",
        "\n",
        "    ):\n",
        "\n",
        "        self.mlb = MultiLabelBinarizer()\n",
        "        self.movies_data = movies_data\n",
        "\n",
        "    def fit(self, X, y):\n",
        "\n",
        "        X_train_copy = X.copy()\n",
        "        X_train_copy = pd.concat([X_train_copy, y], axis = 1)\n",
        "        X_train_copy = X_train_copy.merge(movies_df[['movieId', 'genres']], on='movieId', how='left')\n",
        "\n",
        "        self.rating_user_mean = X_train_copy.groupby(\"userId\", as_index=False)\\\n",
        "                                               .rating.mean()\\\n",
        "                                               .rename({\"rating\": \"rating_user_mean\"}, axis=1)\n",
        "\n",
        "        self.rating_movie_mean = X_train_copy.groupby(\"movieId\", as_index=False)\\\n",
        "                                                .rating.mean()\\\n",
        "                                                .rename({\"rating\": \"rating_movie_mean\"}, axis=1)\n",
        "\n",
        "\n",
        "        self.mlb.fit(self.movies_data.genres.apply(lambda x: x.split('|')))\n",
        "\n",
        "\n",
        "        mlb_encoded_genres = pd.DataFrame(self.mlb.transform(X_train_copy.genres.apply(lambda x: x.split('|'))), \\\n",
        "                                          columns=self.mlb.classes_)\n",
        "\n",
        "        temp = pd.concat([X_train_copy.userId, mlb_encoded_genres.mul(y, axis=0)], axis=1).groupby(\"userId\").agg(lambda x: np.mean([_ for _ in x if _ > 0]))\n",
        "        self.user_genres_rating = temp.T.fillna(temp.mean(axis=1)).T\n",
        "        self.mean_rating = y.mean()\n",
        "        return self\n",
        "\n",
        "    def transform(self, X:pd.DataFrame):\n",
        "\n",
        "        X_copy= X.copy()\n",
        "        X_copy = X_copy.merge(self.rating_user_mean, how='left', on='userId') \\\n",
        "                       .merge(self.rating_movie_mean, how='left', on='movieId') \\\n",
        "                       .merge(movies_df[['movieId', 'genres']], on='movieId', how='left').fillna(2.5)\n",
        "\n",
        "        datetime_ = pd.to_datetime(X_copy.timestamp, unit='s')\n",
        "\n",
        "        X_copy['year'] = datetime_.dt.year\n",
        "        X_copy['month'] = datetime_.dt.month\n",
        "        X_copy['day_of_week'] = datetime_.dt.day_of_week\n",
        "        X_copy['time'] = pd.cut(datetime_.dt.hour,\n",
        "                                include_lowest=True,\n",
        "                                bins=[0, 5, 12, 17, 21, 24],\n",
        "                                right=False,\n",
        "                                ordered=False,\n",
        "                                labels=['night', 'morining', 'afternoon', 'evening', 'night'])\n",
        "\n",
        "        X_copy['genres'] = X_copy.genres.apply(lambda x: x.split('|'))\n",
        "\n",
        "        mlb_encoded_genres = pd.DataFrame(self.mlb.transform(X_copy.genres), \\\n",
        "                                         columns=self.mlb.classes_)\n",
        "\n",
        "        #X_copy = pd.concat([X_copy, mlb_encoded_genres], axis=1)\n",
        "        X_copy = pd.concat([X_copy, self.user_genres_rating.merge(X_copy.userId, how='right', right_on='userId', left_index=True).iloc[:,:-1].apply(lambda col: col.fillna(col.mean()), axis=0) * mlb_encoded_genres], axis=1)\n",
        "\n",
        "        \"\"\"\n",
        "        X_copy = X_copy.merge(pd.concat([mlb_encoded_genres,\\\n",
        "                                X_copy.userId], axis = 1)\n",
        "                               .groupby(\"userId\", as_index = False).mean(), \\\n",
        "                     how='left',\n",
        "                     on='userId', \\\n",
        "                     suffixes = ('', '_gen_mean'))\n",
        "        \"\"\"\n",
        "\n",
        "\n",
        "        X_copy.drop(columns=['timestamp', 'genres'], inplace=True)\n",
        "        return X_copy.set_index(X.index)\n",
        "\n",
        "    def get_feature_names_out(self, input_features=None):\n",
        "        return self.mlb.classes_\n",
        "\n",
        "    def inverse_transform(self):\n",
        "        pass"
      ],
      "metadata": {
        "id": "l4xdNbvgxEKR"
      },
      "execution_count": 13,
      "outputs": []
    },
    {
      "cell_type": "code",
      "source": [
        "final_pipe = Pipeline(\n",
        "    [\n",
        "        (\"Custom_transformer\", CustomTransformer2(movies_data=movies_df)),\n",
        "        (\"OneHotEncoder\", col_transformer),\n",
        "        (\"linear_regression\", Ridge())\n",
        "    ]\n",
        ")\n"
      ],
      "metadata": {
        "id": "Wwv1TdRKvL2i"
      },
      "execution_count": 14,
      "outputs": []
    },
    {
      "cell_type": "code",
      "source": [
        "X_ = ratings_full_df.drop(\"rating\", axis=1)\n",
        "y_ = ratings_full_df['rating']"
      ],
      "metadata": {
        "id": "ZAUt_uqpua9N"
      },
      "execution_count": 15,
      "outputs": []
    },
    {
      "cell_type": "code",
      "source": [
        "from sklearn.model_selection import train_test_split\n",
        "from sklearn.metrics import mean_absolute_error, mean_squared_error, mean_absolute_percentage_error, r2_score\n",
        "from sklearn.model_selection import GridSearchCV"
      ],
      "metadata": {
        "id": "HT--Pxw650Zf"
      },
      "execution_count": 16,
      "outputs": []
    },
    {
      "cell_type": "code",
      "source": [
        "X_train, X_test, y_train, y_test = train_test_split(\n",
        "    X_,\n",
        "    y_,\n",
        "    test_size=0.2, # <--- Доля теста к тотал данным\n",
        "    random_state=42  # <--- Мешать ли данные или делить по индексам\n",
        ")"
      ],
      "metadata": {
        "id": "fZ3wOORmAweI"
      },
      "execution_count": 17,
      "outputs": []
    },
    {
      "cell_type": "code",
      "source": [
        "def evaluate_model(y_true, y_predicted):\n",
        "  result = pd.DataFrame.from_dict({\n",
        "          \"MAE\": mean_absolute_error(y_true, y_predicted),\n",
        "          \"MSE\": mean_squared_error(y_true, y_predicted),\n",
        "          \"MAPE\": mean_absolute_percentage_error(y_true, y_predicted),\n",
        "          \"R2_score\": r2_score(y_true, y_predicted )\n",
        "  },\n",
        "  orient='index', columns=['value'])\n",
        "  return result"
      ],
      "metadata": {
        "id": "N9U1VCPA1rh1"
      },
      "execution_count": 18,
      "outputs": []
    },
    {
      "cell_type": "code",
      "source": [],
      "metadata": {
        "id": "UW1OKn2q0lcJ"
      },
      "execution_count": 18,
      "outputs": []
    },
    {
      "cell_type": "code",
      "source": [
        "splitter = KFold(\n",
        "    n_splits=2,\n",
        "    shuffle=True,\n",
        "    random_state=100\n",
        ")"
      ],
      "metadata": {
        "id": "jAP2osHr08q0"
      },
      "execution_count": 19,
      "outputs": []
    },
    {
      "cell_type": "code",
      "source": [
        "lasso_pipe = Pipeline(\n",
        "    [\n",
        "        (\"Custom_transformer\", CustomTransformer2(movies_data=movies_df)),\n",
        "        (\"OneHotEncoder\", col_transformer),\n",
        "        (\"simple_model\", Lasso())\n",
        "    ]\n",
        ")\n",
        "\n",
        "ridge_pipe = Pipeline(\n",
        "    [\n",
        "        (\"Custom_transformer\", CustomTransformer2(movies_data=movies_df)),\n",
        "        (\"OneHotEncoder\", col_transformer),\n",
        "        (\"simple_model\", Ridge())\n",
        "    ]\n",
        ")"
      ],
      "metadata": {
        "id": "DFc5GAQXvf2a"
      },
      "execution_count": 20,
      "outputs": []
    },
    {
      "cell_type": "code",
      "source": [
        "param_grid = {\n",
        "    \"simple_model__alpha\": np.linspace(start=0.1, stop=1000, num=100),\n",
        "    \"simple_model__max_iter\": [100, 1000]\n",
        "}"
      ],
      "metadata": {
        "id": "ezqCNthIvDW_"
      },
      "execution_count": 21,
      "outputs": []
    },
    {
      "cell_type": "code",
      "source": [
        "%%time\n",
        "for model in [lasso_pipe, ridge_pipe]:\n",
        "    ### Передадим в GridSearchCV\n",
        "    search = GridSearchCV(model, param_grid,\n",
        "                          cv=splitter, scoring='neg_mean_absolute_error', n_jobs=-1, verbose=10)\n",
        "\n",
        "    search.fit(X_, y_)\n",
        "\n",
        "    print(f\"Best parameter (CV score={search.best_score_:.5f}):\")\n",
        "    print(search.best_params_)"
      ],
      "metadata": {
        "id": "__aQlY3Jvq14",
        "outputId": "17c14553-5bf8-4a3c-9c1f-9bf9117e7fc7",
        "colab": {
          "base_uri": "https://localhost:8080/"
        }
      },
      "execution_count": null,
      "outputs": [
        {
          "output_type": "stream",
          "name": "stdout",
          "text": [
            "Fitting 2 folds for each of 200 candidates, totalling 400 fits\n"
          ]
        }
      ]
    },
    {
      "cell_type": "code",
      "source": [],
      "metadata": {
        "id": "uURzV-LG25da"
      },
      "execution_count": null,
      "outputs": []
    },
    {
      "cell_type": "code",
      "source": [
        "evaluate_model(y_test, final_pipe.fit(X_train, y_train).predict(X_test))"
      ],
      "metadata": {
        "id": "HL6M995Rv69n"
      },
      "execution_count": null,
      "outputs": []
    },
    {
      "cell_type": "code",
      "source": [
        "from sklearn.model_selection import KFold\n",
        "\n",
        "splitter = KFold(\n",
        "    n_splits=2,\n",
        "    shuffle=True,\n",
        "    random_state=42\n",
        ")"
      ],
      "metadata": {
        "id": "pobBcUikrWv2"
      },
      "execution_count": null,
      "outputs": []
    },
    {
      "cell_type": "code",
      "source": [
        "from sklearn.model_selection import cross_validate\n",
        "\n",
        "cv_result = cross_validate(pipe,\n",
        "                           X_, y_,\n",
        "                           scoring='neg_mean_absolute_error',\n",
        "                           cv=splitter, return_train_score=True)\n",
        "\n",
        "cv_result"
      ],
      "metadata": {
        "id": "TpDPJqAYupYi"
      },
      "execution_count": null,
      "outputs": []
    },
    {
      "cell_type": "code",
      "source": [
        "param_grid = {}\n",
        "search = GridSearchCV(final_pipe, param_grid,\n",
        "                      cv=splitter, scoring='neg_mean_absolute_error')"
      ],
      "metadata": {
        "id": "E1Og6bdfpTVI"
      },
      "execution_count": null,
      "outputs": []
    },
    {
      "cell_type": "code",
      "source": [
        "search.fit(X_, y_)\n",
        "print(f\"Best parameter (CV score={search.best_score_:.5f}):\")\n",
        "print(search.best_params_)"
      ],
      "metadata": {
        "id": "YV-U6djTsJ1f"
      },
      "execution_count": null,
      "outputs": []
    },
    {
      "cell_type": "code",
      "source": [
        "search.best_score_"
      ],
      "metadata": {
        "id": "nL0SjZpVsm1H"
      },
      "execution_count": null,
      "outputs": []
    },
    {
      "cell_type": "code",
      "source": [
        "list(splitter.split(X_, y_))"
      ],
      "metadata": {
        "id": "V_vzsvcvtBSi"
      },
      "execution_count": null,
      "outputs": []
    },
    {
      "cell_type": "code",
      "source": [
        "movies_df.genres.isna().sum()"
      ],
      "metadata": {
        "id": "CDNXR7UrtlrW"
      },
      "execution_count": null,
      "outputs": []
    },
    {
      "cell_type": "code",
      "source": [
        "CustomTransformer2(movies_data=movies_df).fit(X_train, y_train).transform(X_test)"
      ],
      "metadata": {
        "id": "bFLdT2j3TSxi"
      },
      "execution_count": null,
      "outputs": []
    },
    {
      "cell_type": "code",
      "source": [
        " CustomTransformer2(movies_data=movies_df).fit(X_train, y_train).transform(X_test).isna().sum().loc[lambda x: x > 0]"
      ],
      "metadata": {
        "id": "Qbq-HG6dG2Dx"
      },
      "execution_count": null,
      "outputs": []
    },
    {
      "cell_type": "code",
      "source": [],
      "metadata": {
        "id": "GfySrXCnHD9J"
      },
      "execution_count": null,
      "outputs": []
    },
    {
      "cell_type": "code",
      "source": [],
      "metadata": {
        "id": "co0yFRiptg5w"
      },
      "execution_count": null,
      "outputs": []
    }
  ]
}