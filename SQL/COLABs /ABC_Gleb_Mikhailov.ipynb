{
  "nbformat": 4,
  "nbformat_minor": 0,
  "metadata": {
    "colab": {
      "provenance": [],
      "authorship_tag": "ABX9TyPvKiHh37SJQrTE7A3+aYZC",
      "include_colab_link": true
    },
    "kernelspec": {
      "name": "python3",
      "display_name": "Python 3"
    },
    "language_info": {
      "name": "python"
    }
  },
  "cells": [
    {
      "cell_type": "markdown",
      "metadata": {
        "id": "view-in-github",
        "colab_type": "text"
      },
      "source": [
        "<a href=\"https://colab.research.google.com/github/aleks-haksly/Simulative/blob/main/SQL/COLABs%20/ABC_Gleb_Mikhailov.ipynb\" target=\"_parent\"><img src=\"https://colab.research.google.com/assets/colab-badge.svg\" alt=\"Open In Colab\"/></a>"
      ]
    },
    {
      "cell_type": "code",
      "source": [
        "import pandas as pd\n",
        "from sqlalchemy import text\n",
        "from sqlalchemy import create_engine\n",
        "import numpy as np\n",
        "from google.colab import userdata\n",
        "SQLALCHEMY_SILENCE_UBER_WARNING=1"
      ],
      "metadata": {
        "id": "puPbZTQ-3ZGI"
      },
      "execution_count": 1,
      "outputs": []
    },
    {
      "cell_type": "code",
      "source": [
        "engine = create_engine(userdata.get('elefantSQL'))"
      ],
      "metadata": {
        "id": "U65AnrFB3Z28"
      },
      "execution_count": 2,
      "outputs": []
    },
    {
      "cell_type": "code",
      "source": [
        "def select(sql):\n",
        "    sql = text(sql)\n",
        "    return pd.read_sql(sql, engine)"
      ],
      "metadata": {
        "id": "fe_ksBlI3eM4"
      },
      "execution_count": 3,
      "outputs": []
    }
  ]
}