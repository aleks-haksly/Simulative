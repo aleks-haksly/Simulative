{
  "nbformat": 4,
  "nbformat_minor": 0,
  "metadata": {
    "colab": {
      "provenance": []
    },
    "kernelspec": {
      "name": "python3",
      "display_name": "Python 3"
    },
    "language_info": {
      "name": "python"
    }
  },
  "cells": [
    {
      "cell_type": "code",
      "source": [
        "import pandas as pd\n",
        "from sqlalchemy import text\n",
        "from sqlalchemy import create_engine\n",
        "import numpy as np\n",
        "from google.colab import userdata\n",
        "SQLALCHEMY_SILENCE_UBER_WARNING=1"
      ],
      "metadata": {
        "id": "puPbZTQ-3ZGI"
      },
      "execution_count": null,
      "outputs": []
    },
    {
      "cell_type": "code",
      "source": [
        "engine = create_engine(userdata.get('elefantSQL'))"
      ],
      "metadata": {
        "id": "U65AnrFB3Z28"
      },
      "execution_count": null,
      "outputs": []
    },
    {
      "cell_type": "code",
      "source": [
        "def select(sql):\n",
        "    sql = text(sql)\n",
        "    return pd.read_sql(sql, engine)"
      ],
      "metadata": {
        "id": "fe_ksBlI3eM4"
      },
      "execution_count": null,
      "outputs": []
    },
    {
      "cell_type": "code",
      "source": [
        "sql = '''\n",
        "\n",
        "'''"
      ],
      "metadata": {
        "id": "4kiIloHM3o2x"
      },
      "execution_count": null,
      "outputs": []
    },
    {
      "cell_type": "code",
      "source": [
        "select(sql);"
      ],
      "metadata": {
        "id": "Ra1as3Pk4J2f"
      },
      "execution_count": 22,
      "outputs": []
    },
    {
      "cell_type": "code",
      "source": [],
      "metadata": {
        "id": "8qdFA1bb_kT8"
      },
      "execution_count": null,
      "outputs": []
    }
  ]
}