{
  "nbformat": 4,
  "nbformat_minor": 0,
  "metadata": {
    "colab": {
      "provenance": [],
      "authorship_tag": "ABX9TyO3sKd6ncWAL875tqQcS9Mk",
      "include_colab_link": true
    },
    "kernelspec": {
      "name": "python3",
      "display_name": "Python 3"
    },
    "language_info": {
      "name": "python"
    }
  },
  "cells": [
    {
      "cell_type": "markdown",
      "metadata": {
        "id": "view-in-github",
        "colab_type": "text"
      },
      "source": [
        "<a href=\"https://colab.research.google.com/github/aleks-haksly/Simulative/blob/main/SQL/COLABs%20/ABC_Gleb_Mikhailov.ipynb\" target=\"_parent\"><img src=\"https://colab.research.google.com/assets/colab-badge.svg\" alt=\"Open In Colab\"/></a>"
      ]
    },
    {
      "cell_type": "code",
      "source": [
        "import pandas as pd\n",
        "from sqlalchemy import text\n",
        "from sqlalchemy import create_engine\n",
        "import numpy as np\n",
        "from google.colab import userdata\n",
        "SQLALCHEMY_SILENCE_UBER_WARNING=1"
      ],
      "metadata": {
        "id": "puPbZTQ-3ZGI"
      },
      "execution_count": null,
      "outputs": []
    },
    {
      "cell_type": "code",
      "source": [
        "engine = create_engine(userdata.get('elefantSQL'))"
      ],
      "metadata": {
        "id": "U65AnrFB3Z28"
      },
      "execution_count": null,
      "outputs": []
    },
    {
      "cell_type": "code",
      "source": [
        "def select(sql):\n",
        "    sql = text(sql)\n",
        "    return pd.read_sql(sql, engine)"
      ],
      "metadata": {
        "id": "fe_ksBlI3eM4"
      },
      "execution_count": null,
      "outputs": []
    },
    {
      "cell_type": "code",
      "source": [
        "sql = \"\"\"\n",
        "-- Сгруппируем товары по количесвтву продаж\n",
        "with product_grouped as (\n",
        "select\n",
        "  dr_ndrugs, sum(dr_kol) as amounts,\n",
        "  sum((dr_croz - dr_czak) * dr_kol - dr_sdisc) as pdofit_sum,\n",
        "  sum(dr_croz * dr_kol - dr_sdisc) as revenue_sum\n",
        "from\n",
        "  sales\n",
        "group by dr_ndrugs\n",
        ")\n",
        "\n",
        "\n",
        "-- Выполним ABC анализ по количеству (A-B-C  => 80-15-5%)\n",
        "select product_grouped.dr_ndrugs,\n",
        "case\n",
        "    when sum(product_grouped.amounts) over (order by amounts desc) <= (select sum(dr_kol) * 0.8 from sales) then 'A'\n",
        "    when sum(product_grouped.amounts) over (order by amounts desc) <= (select sum(dr_kol) * 0.95 from sales) then 'B'\n",
        "    else 'C'\n",
        "end as group_amount,\n",
        "case\n",
        "    when sum(product_grouped.pdofit_sum) over (order by pdofit_sum desc) <= (select sum((dr_croz - dr_czak) * dr_kol - dr_sdisc)* 0.8 from sales) then 'A'\n",
        "    when sum(product_grouped.pdofit_sum) over (order by pdofit_sum desc) <= (select sum((dr_croz - dr_czak) * dr_kol - dr_sdisc)* 0.95 from sales) then 'B'\n",
        "    else 'C'\n",
        "end as group_profit,\n",
        "case\n",
        "    when sum(product_grouped.revenue_sum) over (order by revenue_sum desc) <= (select sum(dr_croz * dr_kol - dr_sdisc)* 0.8 from sales) then 'A'\n",
        "    when sum(product_grouped.revenue_sum) over (order by revenue_sum desc) <= (select sum(dr_croz * dr_kol - dr_sdisc)* 0.95 from sales) then 'B'\n",
        "    else 'C'\n",
        "end as group_revenue\n",
        "\n",
        "from product_grouped\n",
        "limit 1000\n",
        "\"\"\""
      ],
      "metadata": {
        "id": "1T46lkGB7Cc9"
      },
      "execution_count": null,
      "outputs": []
    },
    {
      "cell_type": "code",
      "source": [
        "select(sql)"
      ],
      "metadata": {
        "id": "KFxGzsso7KoP"
      },
      "execution_count": null,
      "outputs": []
    }
  ]
}