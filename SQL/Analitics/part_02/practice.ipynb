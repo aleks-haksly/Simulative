{
  "nbformat": 4,
  "nbformat_minor": 0,
  "metadata": {
    "colab": {
      "provenance": [],
      "authorship_tag": "ABX9TyOn2S5qVZP32aFzvYDR0m3Z",
      "include_colab_link": true
    },
    "kernelspec": {
      "name": "python3",
      "display_name": "Python 3"
    },
    "language_info": {
      "name": "python"
    }
  },
  "cells": [
    {
      "cell_type": "markdown",
      "metadata": {
        "id": "view-in-github",
        "colab_type": "text"
      },
      "source": [
        "<a href=\"https://colab.research.google.com/github/aleks-haksly/Simulative/blob/main/SQL/Analitics/part_02/practice.ipynb\" target=\"_parent\"><img src=\"https://colab.research.google.com/assets/colab-badge.svg\" alt=\"Open In Colab\"/></a>"
      ]
    },
    {
      "cell_type": "code",
      "execution_count": null,
      "metadata": {
        "id": "5pGR6HrbptQ9"
      },
      "outputs": [],
      "source": [
        "import pandas as pd\n",
        "import numpy as np\n",
        "from sqlalchemy import text\n",
        "from sqlalchemy import create_engine\n",
        "import pandas as pd\n",
        "from google.colab import userdata"
      ]
    },
    {
      "cell_type": "code",
      "source": [
        "# Подключаемся к базе postgres на https://supabase.com/\n",
        "engine = create_engine(userdata.get('supabase'), client_encoding='utf8')"
      ],
      "metadata": {
        "id": "LOGpqKlYuu4_"
      },
      "execution_count": null,
      "outputs": []
    },
    {
      "cell_type": "code",
      "source": [
        "# пишем функцию-обертку для удобного получения данных в виде pandas df\n",
        "def select(sql):\n",
        "    sql = text(sql)\n",
        "    return pd.read_sql(sql, engine)"
      ],
      "metadata": {
        "id": "-0SJpt8Au4QV"
      },
      "execution_count": null,
      "outputs": []
    },
    {
      "cell_type": "code",
      "source": [
        "\n",
        "sql = \"\"\"\n",
        "SELECT\n",
        "  email,\n",
        "  (CASE WHEN\n",
        "  coalesce(first_name, '') || ' ' || coalesce(last_name, '') = ' ' then 'Дорогой друг'\n",
        "  else coalesce(first_name, '') || ' ' || coalesce(last_name, '') end) AS full_name\n",
        "FROM simulative.user\n",
        "\"\"\"\n",
        "data = select(sql)"
      ],
      "metadata": {
        "id": "Z4Dybri3SIJP"
      },
      "execution_count": null,
      "outputs": []
    }
  ]
}