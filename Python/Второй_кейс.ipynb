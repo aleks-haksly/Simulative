{
  "nbformat": 4,
  "nbformat_minor": 0,
  "metadata": {
    "colab": {
      "provenance": [],
      "include_colab_link": true
    },
    "kernelspec": {
      "name": "python3",
      "display_name": "Python 3"
    },
    "language_info": {
      "name": "python"
    }
  },
  "cells": [
    {
      "cell_type": "markdown",
      "metadata": {
        "id": "view-in-github",
        "colab_type": "text"
      },
      "source": [
        "<a href=\"https://colab.research.google.com/github/aleks-haksly/Simulative/blob/main/Python/%D0%92%D1%82%D0%BE%D1%80%D0%BE%D0%B9_%D0%BA%D0%B5%D0%B9%D1%81.ipynb\" target=\"_parent\"><img src=\"https://colab.research.google.com/assets/colab-badge.svg\" alt=\"Open In Colab\"/></a>"
      ]
    },
    {
      "cell_type": "markdown",
      "source": [
        "## 2 кейс\n",
        "\n",
        "**Соберите данные из Google Sheets и напишите функцию `generate_report`, которая принимает три списка (данные с каждого листа в Google Sheets) и сохраняет отчет в файл `student_debt_report.txt`**"
      ],
      "metadata": {
        "id": "kilnMAFvwPlm"
      }
    },
    {
      "cell_type": "markdown",
      "source": [
        "**Важно**\n",
        "\n",
        "Перед началом решения задачи выполните следующую ячейку - в ней скачиваются нужные файлы"
      ],
      "metadata": {
        "id": "Ese_hT_YwxHw"
      }
    },
    {
      "cell_type": "code",
      "execution_count": 6,
      "metadata": {
        "id": "84h9WDU8ngRf",
        "outputId": "6fb6ac8f-7a67-41ce-b9be-54abe29ed668",
        "colab": {
          "base_uri": "https://localhost:8080/"
        }
      },
      "outputs": [
        {
          "output_type": "stream",
          "name": "stdout",
          "text": [
            "--2024-06-17 06:32:03--  https://gist.github.com/Vs8th/d0bd4bdbbb58c8ae4f70a2a503e2d5fc/raw/creds.json\n",
            "Resolving gist.github.com (gist.github.com)... 20.27.177.113\n",
            "Connecting to gist.github.com (gist.github.com)|20.27.177.113|:443... connected.\n",
            "HTTP request sent, awaiting response... 301 Moved Permanently\n",
            "Location: https://gist.githubusercontent.com/Vs8th/d0bd4bdbbb58c8ae4f70a2a503e2d5fc/raw/creds.json [following]\n",
            "--2024-06-17 06:32:03--  https://gist.githubusercontent.com/Vs8th/d0bd4bdbbb58c8ae4f70a2a503e2d5fc/raw/creds.json\n",
            "Resolving gist.githubusercontent.com (gist.githubusercontent.com)... 185.199.111.133, 185.199.110.133, 185.199.109.133, ...\n",
            "Connecting to gist.githubusercontent.com (gist.githubusercontent.com)|185.199.111.133|:443... connected.\n",
            "HTTP request sent, awaiting response... 200 OK\n",
            "Length: 2358 (2.3K) [text/plain]\n",
            "Saving to: ‘creds.json’\n",
            "\n",
            "creds.json          100%[===================>]   2.30K  --.-KB/s    in 0s      \n",
            "\n",
            "2024-06-17 06:32:04 (32.0 MB/s) - ‘creds.json’ saved [2358/2358]\n",
            "\n",
            "--2024-06-17 06:32:04--  https://gist.github.com/Vs8th/39c5deed0f5539d781f00328f7fd4fe0/raw/result.txt\n",
            "Resolving gist.github.com (gist.github.com)... 20.27.177.113\n",
            "Connecting to gist.github.com (gist.github.com)|20.27.177.113|:443... connected.\n",
            "HTTP request sent, awaiting response... 301 Moved Permanently\n",
            "Location: https://gist.githubusercontent.com/Vs8th/39c5deed0f5539d781f00328f7fd4fe0/raw/result.txt [following]\n",
            "--2024-06-17 06:32:04--  https://gist.githubusercontent.com/Vs8th/39c5deed0f5539d781f00328f7fd4fe0/raw/result.txt\n",
            "Resolving gist.githubusercontent.com (gist.githubusercontent.com)... 185.199.111.133, 185.199.110.133, 185.199.109.133, ...\n",
            "Connecting to gist.githubusercontent.com (gist.githubusercontent.com)|185.199.111.133|:443... connected.\n",
            "HTTP request sent, awaiting response... 200 OK\n",
            "Length: 198 [text/plain]\n",
            "Saving to: ‘result.txt’\n",
            "\n",
            "result.txt          100%[===================>]     198  --.-KB/s    in 0s      \n",
            "\n",
            "2024-06-17 06:32:04 (9.49 MB/s) - ‘result.txt’ saved [198/198]\n",
            "\n"
          ]
        }
      ],
      "source": [
        "!wget https://gist.github.com/Vs8th/d0bd4bdbbb58c8ae4f70a2a503e2d5fc/raw/creds.json\n",
        "\n",
        "!wget https://gist.github.com/Vs8th/39c5deed0f5539d781f00328f7fd4fe0/raw/result.txt"
      ]
    },
    {
      "cell_type": "markdown",
      "source": [
        "Чтобы посмотреть как выглядят сами гугл таблицы в оригинале - можете перейти по [ссылке](https://docs.google.com/spreadsheets/d/1hRnw-PEftF0J-6KY7InlILVwWdkJu4vJiGwRjuE_P4U/edit?usp=sharing) и изучить."
      ],
      "metadata": {
        "id": "4DrLBsjgxAEA"
      }
    },
    {
      "cell_type": "markdown",
      "source": [
        "Как примерно должен выглядеть результат:"
      ],
      "metadata": {
        "id": "DzT-pVSOxDKF"
      }
    },
    {
      "cell_type": "code",
      "source": [
        "with open('result.txt') as f:\n",
        "  print(f.read())"
      ],
      "metadata": {
        "id": "yvYYOXrBxChi",
        "outputId": "6ab7ce76-cbbb-414d-9cbc-660302da3e0e",
        "colab": {
          "base_uri": "https://localhost:8080/"
        }
      },
      "execution_count": 7,
      "outputs": [
        {
          "output_type": "stream",
          "name": "stdout",
          "text": [
            "Студент Иванов У.У. - долг 100000 рублей\n",
            "Студент Петров Е.Е. - долг 250000 рублей\n",
            "Студент Сидоров И.И. - долг 10000 рублей\n"
          ]
        }
      ]
    },
    {
      "cell_type": "code",
      "source": [
        "#@title Если возникнут трудности с определением `scope`, подсказка:\n",
        "\n",
        "scope = ['https://www.googleapis.com/auth/spreadsheets.readonly',\n",
        "         'https://www.googleapis.com/auth/drive']"
      ],
      "metadata": {
        "id": "SOZfpY8OnJGl"
      },
      "execution_count": 59,
      "outputs": []
    },
    {
      "cell_type": "code",
      "source": [
        "import gspread\n",
        "from oauth2client.service_account import ServiceAccountCredentials\n",
        "import pandas as pd\n",
        "import numpy as np"
      ],
      "metadata": {
        "id": "o8Gfg_KMtBT7"
      },
      "execution_count": 78,
      "outputs": []
    },
    {
      "cell_type": "markdown",
      "source": [],
      "metadata": {
        "id": "5c1kQTLe6Yj6"
      }
    },
    {
      "cell_type": "code",
      "source": [
        "# Указываем необходимые права доступа к таблицам\n",
        "scope = ['https://www.googleapis.com/auth/spreadsheets.readonly',\n",
        "         'https://www.googleapis.com/auth/drive']\n",
        "\n",
        "# Загружаем ключи аутентификации из файла json\n",
        "creds = ServiceAccountCredentials.from_json_keyfile_name('creds.json', scope)\n",
        "\n",
        "# Авторизуемся в Google Sheets API\n",
        "client = gspread.authorize(creds)"
      ],
      "metadata": {
        "id": "gJsdruZWtG6c"
      },
      "execution_count": 61,
      "outputs": []
    },
    {
      "cell_type": "markdown",
      "source": [
        "**Примечание**\n",
        "\n",
        "Считать должников необходимо на 1 марта 2023 года. То есть определяя количество просроченных платежей, мы определяем их количество не на настоящую дату, а на **1 марта 2023 года**. А периоды внесения платежей для всех студентов одинаковы - **6 месяцев**.\n",
        "\n",
        "То есть, если ожидаемый платеж должен был пройти 3 февраля 2022 года, то к 1 марта 2023 студент просрочил уже три платежа (3 февраля 2022, 3 августа 2022 и 3 февраля 2023)."
      ],
      "metadata": {
        "id": "gJh58XYTk181"
      }
    },
    {
      "cell_type": "markdown",
      "source": [
        "**Решение**\n",
        "\n",
        "Напишите свое решение ниже"
      ],
      "metadata": {
        "id": "zvpm-3CmxH5l"
      }
    },
    {
      "cell_type": "code",
      "source": [
        "def generate_report(sheet1, sheet2, sheet3):\n",
        "\n",
        "  ...\n",
        "\n"
      ],
      "metadata": {
        "id": "CFDewPXwxLoX"
      },
      "execution_count": null,
      "outputs": []
    },
    {
      "cell_type": "markdown",
      "source": [
        "## Решение ##\n",
        "Так как входных параметров для запуска функции **generate_report()** в задании почему-то не предусмотрено, пойдем другим путем и будем получать данные с лисов при помощи функции **client.open_by_url()**, благо ссылка на базовый документ у нас имеется."
      ],
      "metadata": {
        "id": "_Yh-Be9e6umG"
      }
    },
    {
      "cell_type": "code",
      "source": [
        "url = f\"https://docs.google.com/spreadsheets/d/1hRnw-PEftF0J-6KY7InlILVwWdkJu4vJiGwRjuE_P4U/edit?usp=sharing\"\n",
        "calculation_date = '2023-03-01' # Дата, на которую будем считать должников"
      ],
      "metadata": {
        "id": "gEi-_sM67goc"
      },
      "execution_count": 63,
      "outputs": []
    },
    {
      "cell_type": "code",
      "source": [
        "def debt_calc(last_payment_date, onetime_payment, left_to_pay, current_date = calculation_date):\n",
        "  # Функция для расчета рамера задолженности с учетом остатка по оплате\n",
        "  debt = ((pd.to_datetime(current_date) - last_payment_date - np.timedelta64(1, 'D')) // np.timedelta64(6, 'M')) * onetime_payment\n",
        "  return debt if debt <= left_to_pay else left_to_pay"
      ],
      "metadata": {
        "id": "kGs7mGak-Deh"
      },
      "execution_count": 202,
      "outputs": []
    },
    {
      "cell_type": "code",
      "source": [
        "def generate_report(client, url, calculation_date):\n",
        "\n",
        "  # Читаем содержиме листов\n",
        "  sheet1_data = client.open_by_url(url).worksheet(\"Лист1\").get_all_records()\n",
        "  sheet2_data = client.open_by_url(url).worksheet(\"Лист2\").get_all_records()\n",
        "  sheet3_data = client.open_by_url(url).worksheet(\"Лист3\").get_all_records()\n",
        "\n",
        "  # Преобразуем данные в DataFrame\n",
        "  s1 = pd.DataFrame.from_dict(sheet1_data).set_index('student_id')\n",
        "  s2 = pd.DataFrame.from_dict(sheet2_data).set_index('student_id')\n",
        "  s3 = pd.DataFrame.from_dict(sheet3_data).set_index('student_id')\n",
        "\n",
        "  # Объединяем данные из 3 df в одну плоскую таблицу\n",
        "  data = s1.join(s2, how='outer').join(s3, how='outer')\n",
        "\n",
        "  # Прведем поля с датами к правильному типу\n",
        "  data['last_payment_date'] = data['last_payment_date'].apply(pd.to_datetime, dayfirst=True)\n",
        "  data['expected_payment_date'] = data['expected_payment_date'].apply(pd.to_datetime, dayfirst=True)\n",
        "\n",
        "  # Фильтруем данные, оставив только должников\n",
        "  data = data.query(\"installment\t == 'Y' and expected_payment_date < @calculation_date\")[:]\n",
        "\n",
        "  # Размер долга в для случая платежа раз 6 месяцев вариант 1\n",
        "\n",
        "  data['debt'] = np.vectorize(debt_calc)(data['last_payment_date'], data['one-time_payment'], data['left_to_pay'])\n",
        "\n",
        "  return data[['student_name', 'debt']]"
      ],
      "metadata": {
        "id": "HhyqmkBH6riN"
      },
      "execution_count": 194,
      "outputs": []
    },
    {
      "cell_type": "code",
      "source": [
        "# Считаем размеры задолженностей и сохраняем в DataFrame\n",
        "report_data = generate_report(client=client, url=url, calculation_date=calculation_date)"
      ],
      "metadata": {
        "id": "apnH0z4s_bZi"
      },
      "execution_count": 195,
      "outputs": []
    },
    {
      "cell_type": "code",
      "source": [
        "# Пишем информацию о должниках в файл student_debt_report.txt в нужном формате\n",
        "with open('student_debt_report.txt', 'w') as f:\n",
        "  for i in report_data.index[:-1]:\n",
        "    f.write(f\"Студент {report_data.loc[i, 'student_name']} - долг {int(report_data.loc[i, 'debt'])} рублей\\n\")\n",
        "  f.write(f\"Студент {report_data.loc[report_data.index[-1], 'student_name']} - долг {int(report_data.loc[report_data.index[-1], 'debt'])} рублей\")"
      ],
      "metadata": {
        "id": "cHktG-kaH_w2"
      },
      "execution_count": 197,
      "outputs": []
    },
    {
      "cell_type": "markdown",
      "source": [
        "✏️ ✏️ ✏️\n",
        "\n",
        "**Проверка**\n",
        "\n",
        "Чтобы проверить свое решение, запустите код в следующих ячейках"
      ],
      "metadata": {
        "id": "VSZxSfjWxeZr"
      }
    },
    {
      "cell_type": "code",
      "source": [
        "# Здесь будет скачиваться файл с эталонным ответом\n",
        "\n",
        "!wget https://gist.github.com/Vs8th/63832f093f4db8d8b251ba5d39571f3d/raw/student_debt.txt\n",
        "\n",
        "import pandas as pd\n",
        "\n",
        "user_answer = pd.read_csv('student_debt_report.txt')\n",
        "correct_answer = pd.read_csv('student_debt.txt')"
      ],
      "metadata": {
        "id": "nbDL6rllxe4X",
        "outputId": "f590c04d-8984-49fa-c958-f26be2b54f24",
        "colab": {
          "base_uri": "https://localhost:8080/"
        }
      },
      "execution_count": 199,
      "outputs": [
        {
          "output_type": "stream",
          "name": "stdout",
          "text": [
            "--2024-06-17 13:31:50--  https://gist.github.com/Vs8th/63832f093f4db8d8b251ba5d39571f3d/raw/student_debt.txt\n",
            "Resolving gist.github.com (gist.github.com)... 20.27.177.113\n",
            "Connecting to gist.github.com (gist.github.com)|20.27.177.113|:443... connected.\n",
            "HTTP request sent, awaiting response... 301 Moved Permanently\n",
            "Location: https://gist.githubusercontent.com/Vs8th/63832f093f4db8d8b251ba5d39571f3d/raw/student_debt.txt [following]\n",
            "--2024-06-17 13:31:50--  https://gist.githubusercontent.com/Vs8th/63832f093f4db8d8b251ba5d39571f3d/raw/student_debt.txt\n",
            "Resolving gist.githubusercontent.com (gist.githubusercontent.com)... 185.199.109.133, 185.199.108.133, 185.199.111.133, ...\n",
            "Connecting to gist.githubusercontent.com (gist.githubusercontent.com)|185.199.109.133|:443... connected.\n",
            "HTTP request sent, awaiting response... 200 OK\n",
            "Length: 11325 (11K) [text/plain]\n",
            "Saving to: ‘student_debt.txt’\n",
            "\n",
            "student_debt.txt    100%[===================>]  11.06K  --.-KB/s    in 0.001s  \n",
            "\n",
            "2024-06-17 13:31:51 (16.0 MB/s) - ‘student_debt.txt’ saved [11325/11325]\n",
            "\n"
          ]
        }
      ]
    },
    {
      "cell_type": "code",
      "source": [
        "try:\n",
        "  assert (user_answer == correct_answer).all().all(), 'Ответы не совпадают'\n",
        "  assert user_answer.columns.equals(correct_answer.columns), 'Названия столбцов не совпадают'\n",
        "except Exception as err:\n",
        "  raise AssertionError(f'При проверке возникла ошибка {repr(err)}')\n",
        "else:\n",
        "  print('Поздравляем, Вы справились и успешно прошли все проверки!!')"
      ],
      "metadata": {
        "id": "gMqsbz7Wxm-G",
        "colab": {
          "base_uri": "https://localhost:8080/"
        },
        "outputId": "036c3097-3d4a-4b6b-9735-4b642dd657d4"
      },
      "execution_count": 200,
      "outputs": [
        {
          "output_type": "stream",
          "name": "stdout",
          "text": [
            "Поздравляем, Вы справились и успешно прошли все проверки!!\n"
          ]
        }
      ]
    }
  ]
}