{
  "nbformat": 4,
  "nbformat_minor": 0,
  "metadata": {
    "colab": {
      "provenance": [],
      "collapsed_sections": [
        "s2g2hxfMzqLo",
        "TbkdEVLI0Cor",
        "wxkhEVmF0PAo",
        "OrwoZ-wR0jJq"
      ],
      "include_colab_link": true
    },
    "kernelspec": {
      "name": "python3",
      "display_name": "Python 3"
    },
    "language_info": {
      "name": "python"
    }
  },
  "cells": [
    {
      "cell_type": "markdown",
      "metadata": {
        "id": "view-in-github",
        "colab_type": "text"
      },
      "source": [
        "<a href=\"https://colab.research.google.com/github/aleks-haksly/Simulative/blob/main/Python/%D0%A2%D1%80%D0%B5%D1%82%D0%B8%D0%B9_%D0%BA%D0%B5%D0%B9%D1%81.ipynb\" target=\"_parent\"><img src=\"https://colab.research.google.com/assets/colab-badge.svg\" alt=\"Open In Colab\"/></a>"
      ]
    },
    {
      "cell_type": "markdown",
      "source": [
        "## 3 кейс\n",
        "\n",
        "**В этом кейсе вы будете рассчитывать:**\n",
        "* retention\n",
        "* rolling retention\n",
        "* lifetime\n",
        "* churn rate\n",
        "* mau\n",
        "* wau\n",
        "* dau"
      ],
      "metadata": {
        "id": "T_xBU6WvyPhY"
      }
    },
    {
      "cell_type": "markdown",
      "source": [
        "**Важно**\n",
        "\n",
        "Перед началом решения задачи выполните следующую ячейку - в ней скачиваются нужные файлы"
      ],
      "metadata": {
        "id": "U2D5zGSdzc92"
      }
    },
    {
      "cell_type": "code",
      "execution_count": 1,
      "metadata": {
        "id": "3eJFMuMpyCp-",
        "colab": {
          "base_uri": "https://localhost:8080/"
        },
        "outputId": "5aa8deb0-3c4f-42eb-ff76-5e07290438da"
      },
      "outputs": [
        {
          "output_type": "stream",
          "name": "stdout",
          "text": [
            "--2024-06-17 17:09:35--  https://gist.github.com/Vs8th/739269a03f2f4a7396d04d6739da3771/raw/registrations.csv\n",
            "Resolving gist.github.com (gist.github.com)... 140.82.112.4\n",
            "Connecting to gist.github.com (gist.github.com)|140.82.112.4|:443... connected.\n",
            "HTTP request sent, awaiting response... 301 Moved Permanently\n",
            "Location: https://gist.githubusercontent.com/Vs8th/739269a03f2f4a7396d04d6739da3771/raw/registrations.csv [following]\n",
            "--2024-06-17 17:09:35--  https://gist.githubusercontent.com/Vs8th/739269a03f2f4a7396d04d6739da3771/raw/registrations.csv\n",
            "Resolving gist.githubusercontent.com (gist.githubusercontent.com)... 185.199.108.133, 185.199.109.133, 185.199.110.133, ...\n",
            "Connecting to gist.githubusercontent.com (gist.githubusercontent.com)|185.199.108.133|:443... connected.\n",
            "HTTP request sent, awaiting response... 200 OK\n",
            "Length: 14918 (15K) [text/plain]\n",
            "Saving to: ‘registrations.csv’\n",
            "\n",
            "registrations.csv   100%[===================>]  14.57K  --.-KB/s    in 0s      \n",
            "\n",
            "2024-06-17 17:09:35 (42.4 MB/s) - ‘registrations.csv’ saved [14918/14918]\n",
            "\n",
            "--2024-06-17 17:09:35--  https://gist.github.com/Vs8th/aacb80595d1d6aaa2e31eb735f8bc644/raw/entries.csv\n",
            "Resolving gist.github.com (gist.github.com)... 140.82.112.4\n",
            "Connecting to gist.github.com (gist.github.com)|140.82.112.4|:443... connected.\n",
            "HTTP request sent, awaiting response... 301 Moved Permanently\n",
            "Location: https://gist.githubusercontent.com/Vs8th/aacb80595d1d6aaa2e31eb735f8bc644/raw/entries.csv [following]\n",
            "--2024-06-17 17:09:35--  https://gist.githubusercontent.com/Vs8th/aacb80595d1d6aaa2e31eb735f8bc644/raw/entries.csv\n",
            "Resolving gist.githubusercontent.com (gist.githubusercontent.com)... 185.199.108.133, 185.199.109.133, 185.199.110.133, ...\n",
            "Connecting to gist.githubusercontent.com (gist.githubusercontent.com)|185.199.108.133|:443... connected.\n",
            "HTTP request sent, awaiting response... 200 OK\n",
            "Length: 308588 (301K) [text/plain]\n",
            "Saving to: ‘entries.csv’\n",
            "\n",
            "entries.csv         100%[===================>] 301.36K  --.-KB/s    in 0.04s   \n",
            "\n",
            "2024-06-17 17:09:35 (7.16 MB/s) - ‘entries.csv’ saved [308588/308588]\n",
            "\n",
            "--2024-06-17 17:09:35--  https://gist.github.com/Vs8th/0e827e9a608117345dd6585ab81e8c86/raw/metrics.txt\n",
            "Resolving gist.github.com (gist.github.com)... 140.82.112.4\n",
            "Connecting to gist.github.com (gist.github.com)|140.82.112.4|:443... connected.\n",
            "HTTP request sent, awaiting response... 301 Moved Permanently\n",
            "Location: https://gist.githubusercontent.com/Vs8th/0e827e9a608117345dd6585ab81e8c86/raw/metrics.txt [following]\n",
            "--2024-06-17 17:09:35--  https://gist.githubusercontent.com/Vs8th/0e827e9a608117345dd6585ab81e8c86/raw/metrics.txt\n",
            "Resolving gist.githubusercontent.com (gist.githubusercontent.com)... 185.199.108.133, 185.199.109.133, 185.199.110.133, ...\n",
            "Connecting to gist.githubusercontent.com (gist.githubusercontent.com)|185.199.108.133|:443... connected.\n",
            "HTTP request sent, awaiting response... 200 OK\n",
            "Length: 67 [text/plain]\n",
            "Saving to: ‘metrics.txt’\n",
            "\n",
            "metrics.txt         100%[===================>]      67  --.-KB/s    in 0s      \n",
            "\n",
            "2024-06-17 17:09:36 (2.97 MB/s) - ‘metrics.txt’ saved [67/67]\n",
            "\n"
          ]
        }
      ],
      "source": [
        "!wget https://gist.github.com/Vs8th/739269a03f2f4a7396d04d6739da3771/raw/registrations.csv\n",
        "\n",
        "!wget https://gist.github.com/Vs8th/aacb80595d1d6aaa2e31eb735f8bc644/raw/entries.csv\n",
        "\n",
        "!wget https://gist.github.com/Vs8th/0e827e9a608117345dd6585ab81e8c86/raw/metrics.txt"
      ]
    },
    {
      "cell_type": "markdown",
      "source": [
        "Файлами для работы являются `registrations.csv` и `entries.csv`. В них хранятся данные о регистрациях пользователей и входа на платформу соответственно."
      ],
      "metadata": {
        "id": "vnMFicli7Fa7"
      }
    },
    {
      "cell_type": "markdown",
      "source": [
        "### **Посчитайте Retention 15 дня (в процентах) для пользователей, зарегистрированных в январе**\n",
        "\n",
        "Cохраните результат в переменную `retention_15_day`\n",
        "\n",
        "**Примечание:** результат округлите до 5 знаков после запятой"
      ],
      "metadata": {
        "id": "s2g2hxfMzqLo"
      }
    },
    {
      "cell_type": "code",
      "source": [
        "import pandas as pd\n",
        "import seaborn as sns\n",
        "import matplotlib.pyplot as plt"
      ],
      "metadata": {
        "id": "hWQt4_IbLpdX"
      },
      "execution_count": 103,
      "outputs": []
    },
    {
      "cell_type": "code",
      "source": [
        "# Ваше решение\n",
        "df_registrations = pd.read_csv('registrations.csv', sep=';', parse_dates=['registration_date'], index_col='user_id')\n",
        "df_entries = pd.read_csv('entries.csv', sep=';', parse_dates=['entry_date'], index_col='user_id')\n",
        "data = df_registrations.join(df_entries, how='left')\n",
        "jan_cohort = data.query(\"registration_date >= '2021-01-01' and registration_date < '2021-02-01'\")[:]"
      ],
      "metadata": {
        "id": "u5l9mm-vzpJ8"
      },
      "execution_count": 104,
      "outputs": []
    },
    {
      "cell_type": "code",
      "source": [
        "jan_cohort['15_day'] = jan_cohort[\"registration_date\"] + pd.DateOffset(days=15)\n",
        "jan_cohort['active'] = (jan_cohort[\"entry_date\"] == jan_cohort[\"15_day\"])\n",
        "jan_cohort.reset_index(inplace=True)\n",
        "jan_cohort.drop_duplicates(subset=['user_id',\t'registration_date',\t'entry_date'], inplace=True)"
      ],
      "metadata": {
        "id": "3Ro3Nlb9PQKi"
      },
      "execution_count": 105,
      "outputs": []
    },
    {
      "cell_type": "code",
      "source": [
        "result = jan_cohort.groupby('registration_date', as_index=False).agg({\"user_id\": \"nunique\", \"active\": \"sum\"})"
      ],
      "metadata": {
        "id": "h6lUKcJ_Loai"
      },
      "execution_count": 106,
      "outputs": []
    },
    {
      "cell_type": "code",
      "source": [
        "retention_15_day = round(result['active'].sum() * 100 / result['user_id'].sum(), 5)\n",
        "retention_15_day"
      ],
      "metadata": {
        "colab": {
          "base_uri": "https://localhost:8080/"
        },
        "id": "vFAfRoNBndQs",
        "outputId": "fb87f919-6c60-48b3-89e1-4d5ca70c15ce"
      },
      "execution_count": 107,
      "outputs": [
        {
          "output_type": "execute_result",
          "data": {
            "text/plain": [
              "54.65116"
            ]
          },
          "metadata": {},
          "execution_count": 107
        }
      ]
    },
    {
      "cell_type": "code",
      "source": [
        "#@title ✏️ Проверка: чтобы проверить свое решение запустите код в этой ячейке\n",
        "# Открываем файл с правильными ответами\n",
        "with open('metrics.txt', 'r') as f:\n",
        "    answers = f.read().split('\\n')\n",
        "\n",
        "correct_answer = float(answers[0])\n",
        "\n",
        "try:\n",
        "    assert retention_15_day == correct_answer\n",
        "except AssertionError:\n",
        "    print('Ответы не совпадают')\n",
        "else:\n",
        "    print('Поздравляем, Вы справились!')"
      ],
      "metadata": {
        "colab": {
          "base_uri": "https://localhost:8080/"
        },
        "id": "YGydKAis0Ae9",
        "outputId": "5d681e5d-491d-4ebe-8bcc-b1ec33849171"
      },
      "execution_count": 83,
      "outputs": [
        {
          "output_type": "stream",
          "name": "stdout",
          "text": [
            "Поздравляем, Вы справились!\n"
          ]
        }
      ]
    },
    {
      "cell_type": "markdown",
      "source": [
        "### **Посчитайте Rolling-retention 30 дня (в процентах) для пользователей из той же когорты**\n",
        "\n",
        "Сохраните результат в переменную `rolling_retention`\n",
        "\n",
        "**Примечание:** результат округлите до 5 знаков после запятой"
      ],
      "metadata": {
        "id": "TbkdEVLI0Cor"
      }
    },
    {
      "cell_type": "code",
      "source": [
        "# Ваше решение\n",
        "jan_cohort['30_day'] = jan_cohort[\"registration_date\"] + pd.DateOffset(days=30)\n",
        "jan_cohort['active_2']  = (jan_cohort[\"entry_date\"] >= jan_cohort[\"30_day\"])\n",
        "jan_cohort.drop_duplicates(subset=['user_id',\t'active_2'], inplace=True)"
      ],
      "metadata": {
        "id": "keCBmUDJ0Hho"
      },
      "execution_count": 108,
      "outputs": []
    },
    {
      "cell_type": "code",
      "source": [
        "rolling_retention = round(jan_cohort['active_2'].sum() * 100 / jan_cohort['user_id'].nunique(), 5)\n",
        "rolling_retention"
      ],
      "metadata": {
        "id": "j19ZHdCMvsk6",
        "outputId": "27042f38-4217-4e1a-d0c3-e2ccc62ed60d",
        "colab": {
          "base_uri": "https://localhost:8080/"
        }
      },
      "execution_count": 109,
      "outputs": [
        {
          "output_type": "execute_result",
          "data": {
            "text/plain": [
              "29.06977"
            ]
          },
          "metadata": {},
          "execution_count": 109
        }
      ]
    },
    {
      "cell_type": "code",
      "source": [
        "#@title ✏️ Проверка: чтобы проверить свое решение запустите код в этой ячейке\n",
        "correct_answer = float(answers[1])\n",
        "\n",
        "try:\n",
        "    assert rolling_retention == correct_answer\n",
        "except AssertionError:\n",
        "    print('Ответы не совпадают')\n",
        "else:\n",
        "    print('Поздравляем, Вы справились!')"
      ],
      "metadata": {
        "id": "fTwUwQZ40JCl",
        "colab": {
          "base_uri": "https://localhost:8080/"
        },
        "outputId": "eed6b98d-3289-470c-9553-c43b17ac386c"
      },
      "execution_count": 102,
      "outputs": [
        {
          "output_type": "stream",
          "name": "stdout",
          "text": [
            "Поздравляем, Вы справились!\n"
          ]
        }
      ]
    },
    {
      "cell_type": "markdown",
      "source": [
        "### **Посчитайте Lifetime по всем пользователям, посчитанный как интеграл от n-day retention**\n",
        "\n",
        "Сохраните результат в переменную `lifetime`\n",
        "\n",
        "**Примечание:** результат округлите до 5 знаков после запятой"
      ],
      "metadata": {
        "id": "wxkhEVmF0PAo"
      }
    },
    {
      "cell_type": "code",
      "source": [
        "# Ваше решение\n",
        "\n"
      ],
      "metadata": {
        "id": "KS17l5Ux0UD3"
      },
      "execution_count": null,
      "outputs": []
    },
    {
      "cell_type": "code",
      "source": [
        "#@title ✏️ Проверка: чтобы проверить свое решение запустите код в этой ячейке\n",
        "correct_answer = float(answers[2])\n",
        "\n",
        "try:\n",
        "    assert lifetime == correct_answer\n",
        "except AssertionError:\n",
        "    print('Ответы не совпадают')\n",
        "else:\n",
        "    print('Поздравляем, Вы справились!')"
      ],
      "metadata": {
        "cellView": "form",
        "id": "k7s0V8hF0Vmx"
      },
      "execution_count": null,
      "outputs": []
    },
    {
      "cell_type": "markdown",
      "source": [
        "### **Посчитайте Churn rate 29 дня (в долях), посчитанный по всем пользователям**\n",
        "\n",
        "Сохраните результат в переменную `churn_29`"
      ],
      "metadata": {
        "id": "OrwoZ-wR0jJq"
      }
    },
    {
      "cell_type": "code",
      "source": [
        "# Ваше решение\n",
        "\n"
      ],
      "metadata": {
        "id": "hKN7vidq0mJ3"
      },
      "execution_count": null,
      "outputs": []
    },
    {
      "cell_type": "code",
      "source": [
        "#@title ✏️ Проверка: чтобы проверить свое решение запустите код в этой ячейке\n",
        "correct_answer = float(answers[3])\n",
        "\n",
        "try:\n",
        "    assert churn_29 == correct_answer\n",
        "except AssertionError:\n",
        "    print('Ответы не совпадают')\n",
        "else:\n",
        "    print('Поздравляем, Вы справились!')"
      ],
      "metadata": {
        "cellView": "form",
        "id": "14KnR1gD0ou9"
      },
      "execution_count": null,
      "outputs": []
    },
    {
      "cell_type": "markdown",
      "source": [
        "### **Посчитайте Mau, Wau, Dau за последний месяц/неделю/день записей**\n",
        "\n",
        "Сохраните результат в переменные `dec_mau`, `dec_wau`, `dec_dau` соответственно\n",
        "\n",
        "**Примечание:** последний месяц записей - декабрь. Поэтому `mau` рассчитываем для декабря (2021 года), для `wau` берем последнюю неделю - с 25 по 31 декабря, и для `dau` соответственно последний день - 31 декабря."
      ],
      "metadata": {
        "id": "QuO3ZwRI5mdH"
      }
    },
    {
      "cell_type": "code",
      "source": [
        "# Ваше решение\n",
        "\n",
        "\n",
        "dec_mau"
      ],
      "metadata": {
        "id": "HxGWkaSp5kpo"
      },
      "execution_count": null,
      "outputs": []
    },
    {
      "cell_type": "code",
      "source": [
        "#@title ✏️ Проверка: чтобы проверить свое решение запустите код в этой ячейке\n",
        "correct_answer = float(answers[4])\n",
        "\n",
        "try:\n",
        "    assert dec_mau == correct_answer\n",
        "except AssertionError:\n",
        "    print('Ответы не совпадают')\n",
        "else:\n",
        "    print('Поздравляем, Вы справились!')"
      ],
      "metadata": {
        "cellView": "form",
        "id": "dpK4clbe5xiH"
      },
      "execution_count": null,
      "outputs": []
    },
    {
      "cell_type": "code",
      "source": [
        "# Ваше решение\n",
        "\n",
        "\n",
        "dec_wau"
      ],
      "metadata": {
        "id": "urEWcCuk522y"
      },
      "execution_count": null,
      "outputs": []
    },
    {
      "cell_type": "code",
      "source": [
        "#@title ✏️ Проверка: чтобы проверить свое решение запустите код в этой ячейке\n",
        "correct_answer = float(answers[5])\n",
        "\n",
        "try:\n",
        "    assert dec_wau == correct_answer\n",
        "except AssertionError:\n",
        "    print('Ответы не совпадают')\n",
        "else:\n",
        "    print('Поздравляем, Вы справились!')"
      ],
      "metadata": {
        "cellView": "form",
        "id": "xziXbjnJ549b"
      },
      "execution_count": null,
      "outputs": []
    },
    {
      "cell_type": "code",
      "source": [
        "# Ваше решение\n",
        "\n",
        "\n",
        "dec_dau"
      ],
      "metadata": {
        "id": "hv7Nz3TN59Ds"
      },
      "execution_count": null,
      "outputs": []
    },
    {
      "cell_type": "code",
      "source": [
        "#@title ✏️ Проверка: чтобы проверить свое решение запустите код в этой ячейке\n",
        "correct_answer = float(answers[6])\n",
        "\n",
        "try:\n",
        "    assert dec_dau == correct_answer\n",
        "except AssertionError:\n",
        "    print('Ответы не совпадают')\n",
        "else:\n",
        "    print('Поздравляем, Вы справились!')"
      ],
      "metadata": {
        "cellView": "form",
        "id": "1csOLxor5_ox"
      },
      "execution_count": null,
      "outputs": []
    },
    {
      "cell_type": "markdown",
      "source": [
        "### **Посчитайте Mau, Wau, Dau усредненные**\n",
        "\n",
        "Сохраните результат в переменные `avg_mau`, `avg_wau`, `avg_dau` соответственно\n",
        "\n",
        "**Примечание:** результаты округлите до 5 знаков после запятой"
      ],
      "metadata": {
        "id": "gzElxXgv6Dyr"
      }
    },
    {
      "cell_type": "code",
      "source": [
        "# Ваше решение\n",
        "\n",
        "\n",
        "avg_mau"
      ],
      "metadata": {
        "id": "mUDYPPqx6RPr"
      },
      "execution_count": null,
      "outputs": []
    },
    {
      "cell_type": "code",
      "source": [
        "#@title ✏️ Проверка: чтобы проверить свое решение запустите код в этой ячейке\n",
        "correct_answer = float(answers[7])\n",
        "\n",
        "try:\n",
        "    assert avg_mau == correct_answer\n",
        "except AssertionError:\n",
        "    print('Ответы не совпадают')\n",
        "else:\n",
        "    print('Поздравляем, Вы справились!')"
      ],
      "metadata": {
        "cellView": "form",
        "id": "CfikZaBu6V9_"
      },
      "execution_count": null,
      "outputs": []
    },
    {
      "cell_type": "code",
      "source": [
        "# Ваше решение\n",
        "\n",
        "\n",
        "avg_wau"
      ],
      "metadata": {
        "id": "WydV9g9C6x7O"
      },
      "execution_count": null,
      "outputs": []
    },
    {
      "cell_type": "code",
      "source": [
        "#@title ✏️ Проверка: чтобы проверить свое решение запустите код в этой ячейке\n",
        "correct_answer = float(answers[8])\n",
        "\n",
        "try:\n",
        "    assert avg_wau == correct_answer\n",
        "except AssertionError:\n",
        "    print('Ответы не совпадают')\n",
        "else:\n",
        "    print('Поздравляем, Вы справились!')"
      ],
      "metadata": {
        "cellView": "form",
        "id": "qbZgzDpV6zUl"
      },
      "execution_count": null,
      "outputs": []
    },
    {
      "cell_type": "code",
      "source": [
        "# Ваше решение\n",
        "\n",
        "\n",
        "avg_dau"
      ],
      "metadata": {
        "id": "NgqOR38d64_T"
      },
      "execution_count": null,
      "outputs": []
    },
    {
      "cell_type": "code",
      "source": [
        "#@title ✏️ Проверка: чтобы проверить свое решение запустите код в этой ячейке\n",
        "correct_answer = float(answers[9])\n",
        "\n",
        "try:\n",
        "    assert avg_dau == correct_answer\n",
        "except AssertionError:\n",
        "    print('Ответы не совпадают')\n",
        "else:\n",
        "    print('Поздравляем, Вы справились!')"
      ],
      "metadata": {
        "id": "TbmDR4NP66qm"
      },
      "execution_count": null,
      "outputs": []
    }
  ]
}